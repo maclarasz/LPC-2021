{
  "nbformat": 4,
  "nbformat_minor": 0,
  "metadata": {
    "colab": {
      "name": "Projeto de Sistema Básico - Coolin Study ",
      "provenance": []
    },
    "kernelspec": {
      "name": "python3",
      "display_name": "Python 3"
    },
    "language_info": {
      "name": "python"
    }
  },
  "cells": [
    {
      "cell_type": "code",
      "metadata": {
        "id": "IglFSDLzM9cp"
      },
      "source": [
        "#ETE PORTO DIGITAL \n",
        "#PROFESSOR: CLOVES ROCHA\n",
        "#DISCIPLINA: LPC\n",
        "#DATA: 08/11/2021\n",
        "#ALUNOS: ELZAFAN FILHO, FELIPE AMORIM, JOBSON SIMÕES, JOYCE SANTOS E MARIA CLARA SOUZA"
      ],
      "execution_count": null,
      "outputs": []
    },
    {
      "cell_type": "code",
      "metadata": {
        "id": "V5QfGWRMQqOB"
      },
      "source": [
        "#O PROCESSO A SEGUIR FOI CRIADO A PARTIR DO PROCESSO DE CADASTRO DO USUÁRIO."
      ],
      "execution_count": null,
      "outputs": []
    },
    {
      "cell_type": "code",
      "metadata": {
        "colab": {
          "base_uri": "https://localhost:8080/"
        },
        "id": "PsmiDYEvOrW9",
        "outputId": "f930e409-b9ad-42d4-9d36-1cef99e14791"
      },
      "source": [
        "#PRIMEIRO PASSO \n",
        "#INÍCIO \n",
        "\n",
        "print (\"Olá! Seja bem-vindo ao Coolin Study!\")\n",
        "print (\"1. Login\")\n",
        "print (\"2. Cadastre-se\")\n",
        "resposta = int(input(\" Desejo fazer: \"))\n",
        "\n",
        "if (resposta==2):\n",
        "  print(\"Cadastre-se e faça parte do Coolin Study.\") \n",
        "else: \n",
        "  print(\"Login\")\n"
      ],
      "execution_count": null,
      "outputs": [
        {
          "output_type": "stream",
          "name": "stdout",
          "text": [
            "Olá! Seja bem-vindo ao Coolin Study!\n",
            "1. Login\n",
            "2. Cadastre-se\n",
            " Desejo fazer: 2\n",
            "Cadastre-se e faça parte do Coolin Study.\n"
          ]
        }
      ]
    },
    {
      "cell_type": "code",
      "metadata": {
        "colab": {
          "base_uri": "https://localhost:8080/"
        },
        "id": "9g6EqemPWB3A",
        "outputId": "e69721e7-249e-435b-e6a5-fbc48dfb3c55"
      },
      "source": [
        "#SEGUNDO PASSO\n",
        "#CADASTRO\n",
        "\n",
        "contato = input(\"Número do celular ou e-mail:\")\n",
        "nome = input(\"Nome completo:\")\n",
        "nomedeusuario = input(\"Nome de usuário:\")\n",
        "senha = input(\"Senha:\")\n",
        "confirmaçaodasenha = input(\"Confirmar senha:\")\n",
        "\n",
        "#NECESSIDADE DE SENHAS IGUAIS \n",
        "\n",
        "if confirmaçaodasenha == 000000:\n",
        " print(\"Essas senhas não coincidem. Tente novamente.\")\n",
        "else:\n",
        "  print(\"Cadastre-se\")"
      ],
      "execution_count": null,
      "outputs": [
        {
          "output_type": "stream",
          "name": "stdout",
          "text": [
            "Número do celular ou e-mail:55 00 9 0000-0000\n",
            "Nome completo:Maria Clara Souza Silva\n",
            "Nome de usuário:user1\n",
            "Senha:000000\n",
            "Confirmar senha:000000\n",
            "Cadastre-se\n"
          ]
        }
      ]
    },
    {
      "cell_type": "code",
      "metadata": {
        "colab": {
          "base_uri": "https://localhost:8080/"
        },
        "id": "C5-OrjGHbZxF",
        "outputId": "855fae04-9ad9-4654-ced5-7cec78b444ee"
      },
      "source": [
        "#TERCEIRO PASSO\n",
        "#PROFESSOR OU ESTUDANTE?\n",
        "\n",
        "print(\"1. Professor\")\n",
        "print(\"2. Aluno\")\n",
        "resposta = int(input(\"Qual melhor se adequa a você?\"))\n",
        "\n",
        "if resposta == 1:\n",
        " print(\"Seguir como professor\")\n",
        "else:\n",
        "  print(\"Seguir como aluno\")"
      ],
      "execution_count": null,
      "outputs": [
        {
          "output_type": "stream",
          "name": "stdout",
          "text": [
            "1. Professor\n",
            "2. Aluno\n",
            "Qual melhor se adequa a você?2\n",
            "Seguir como aluno\n"
          ]
        }
      ]
    },
    {
      "cell_type": "code",
      "metadata": {
        "id": "6jDz6SY6did2"
      },
      "source": [
        "#APRESENTAÇÃO DO PROCESSO TENDO USUÁRIO COMO ALUNO "
      ],
      "execution_count": null,
      "outputs": []
    },
    {
      "cell_type": "code",
      "metadata": {
        "colab": {
          "base_uri": "https://localhost:8080/"
        },
        "id": "FvjdOL2-gnbg",
        "outputId": "934b3b1c-0b4b-4e10-ecd2-b273d6823cae"
      },
      "source": [
        "#QUARTO PASSO\n",
        "#ANO ESCOLAR E MATÉRIA\n",
        "\n",
        "\n",
        "print(\"1. 1EM\")\n",
        "print(\"2. 2EM\")\n",
        "print(\"3. 3 EM\")\n",
        "resposta = int(input(\"Qual o seu ano escolar?\"))\n",
        "#Exemplo de anos escolares \n",
        "print()\n",
        "\n",
        "resposta2 = int(input(\"Qual a grade curricular da escola onde você estuda?\"))\n"
      ],
      "execution_count": null,
      "outputs": [
        {
          "metadata": {
            "tags": null
          },
          "name": "stdout",
          "output_type": "stream",
          "text": [
            "1. 1EM\n",
            "2. 2EM\n",
            "3. 3 EM\n",
            "\n"
          ]
        }
      ]
    },
    {
      "cell_type": "code",
      "metadata": {
        "colab": {
          "base_uri": "https://localhost:8080/"
        },
        "id": "HmRk7sG5dnwc",
        "outputId": "591fa1c8-d5cd-47b7-9c06-d381ea38b764"
      },
      "source": [
        "#QUINTO PASSO \n",
        "#CRONOGRAMA DE ESTUDOS 1\n",
        "\n",
        "print(\"1. Mensal\")\n",
        "print(\"2. Semanal\")\n",
        "print(\"3. Diário\")\n",
        "print()\n",
        "resposta = int(input(\"Qual tipo de cronograma de estudos você prefere?\"))\n",
        "\n"
      ],
      "execution_count": null,
      "outputs": [
        {
          "name": "stdout",
          "output_type": "stream",
          "text": [
            "1. Mensal\n",
            "2. Semanal\n",
            "3. Diário\n",
            "\n",
            "Qual tipo de cronograma de estudos você prefere?2\n"
          ]
        }
      ]
    },
    {
      "cell_type": "code",
      "metadata": {
        "id": "A5OIoTgMk4dZ"
      },
      "source": [
        "#SEXTO PASSO\n",
        "#CRONOGRAMA DE ESTUDOS 2\n",
        "\n",
        "print(\"Defina os dias da semana que você vai estudar as matérias da sua grade curricular\")\n",
        "print(\"Lembre-se de colocar as matérias que menos gosta\")\n",
        "\n",
        "#Imagine que o usuário optou por estudar matemática duas vezes na semana\n",
        "#Matemática na segunda-feira e quinta-feira\n",
        "\n",
        "vetormatemática = [\"Segunda-feira, quinta-feira\"]\n",
        "print(vetormatemática)\n",
        "\n",
        "resposta = int(input(\"Deseja receber notificações sobre o estudo de matemática nesses dias?\"))\n"
      ],
      "execution_count": null,
      "outputs": []
    },
    {
      "cell_type": "code",
      "metadata": {
        "id": "3f2JK7vwpjXM"
      },
      "source": [
        "#SÉTIMO PASSO\n",
        "#QUANTIDADE DE PONTOS\n",
        "\n",
        "#Imagine que o usuário chegou a fase de jogos e teve seu conhecimento sobre o aluno teestado\n",
        "#Vamos calcular sua nota \n",
        "#Quantidade de questões acertadas\n",
        "\n",
        "qqa = (1+1+1+1+1+1+1+1)\n",
        "print(qqa)\n",
        "\n",
        "print(\"Parabéns! Você acertou 8/10 questões!\")"
      ],
      "execution_count": null,
      "outputs": []
    }
  ]
}